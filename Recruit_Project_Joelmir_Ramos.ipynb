{
  "nbformat": 4,
  "nbformat_minor": 0,
  "metadata": {
    "colab": {
      "name": "Recruit_Project_Joelmir_Ramos.ipynb",
      "provenance": [],
      "toc_visible": true
    },
    "kernelspec": {
      "name": "python3",
      "display_name": "Python 3"
    },
    "language_info": {
      "name": "python"
    }
  },
  "cells": [
    {
      "cell_type": "markdown",
      "source": [
        "#1 - Escolha uma estratégia de tratamento de valores faltantes e outliers e justifique sua escolha.\n"
      ],
      "metadata": {
        "id": "NIr7a_hEYo6I"
      }
    },
    {
      "cell_type": "code",
      "source": [
        "import pandas as pd\n",
        "import numpy as np \n",
        "import matplotlib.pyplot as plt\n",
        "from statistics import mean"
      ],
      "metadata": {
        "id": "8MicV3FYYneK"
      },
      "execution_count": 17,
      "outputs": []
    },
    {
      "cell_type": "code",
      "source": [
        "df = pd.read_csv('qualidade_do_ar.csv', sep=';')\n",
        "print(df.shape)\n",
        "print(df.info()) "
      ],
      "metadata": {
        "colab": {
          "base_uri": "https://localhost:8080/"
        },
        "id": "uVVUrr1AYq0I",
        "outputId": "52e8d88a-e9d0-4d3b-b7b6-1ffc1b9697ee"
      },
      "execution_count": 18,
      "outputs": [
        {
          "output_type": "stream",
          "name": "stdout",
          "text": [
            "(9357, 14)\n",
            "<class 'pandas.core.frame.DataFrame'>\n",
            "RangeIndex: 9357 entries, 0 to 9356\n",
            "Data columns (total 14 columns):\n",
            " #   Column         Non-Null Count  Dtype  \n",
            "---  ------         --------------  -----  \n",
            " 0   Date           9357 non-null   object \n",
            " 1   Time           9357 non-null   object \n",
            " 2   PT08.S1(CO)    8991 non-null   float64\n",
            " 3   NMHC(GT)       914 non-null    float64\n",
            " 4   C6H6(GT)       8991 non-null   float64\n",
            " 5   PT08.S2(NMHC)  8991 non-null   float64\n",
            " 6   NOx(GT)        7718 non-null   float64\n",
            " 7   PT08.S3(NOx)   8991 non-null   float64\n",
            " 8   NO2(GT)        7715 non-null   float64\n",
            " 9   PT08.S4(NO2)   8991 non-null   float64\n",
            " 10  PT08.S5(O3)    8991 non-null   float64\n",
            " 11  T              8991 non-null   float64\n",
            " 12  RH             8991 non-null   float64\n",
            " 13  AH             8991 non-null   float64\n",
            "dtypes: float64(12), object(2)\n",
            "memory usage: 1023.5+ KB\n",
            "None\n"
          ]
        }
      ]
    },
    {
      "cell_type": "code",
      "source": [
        "#number NaN in each column\n",
        "Number_NAN_column = df.isna().sum() \n",
        "print(Number_NAN_column)"
      ],
      "metadata": {
        "id": "g4NbzK2fa_Lr",
        "colab": {
          "base_uri": "https://localhost:8080/"
        },
        "outputId": "a0a15277-98ec-47dd-a87c-0f66133cb7ba"
      },
      "execution_count": 19,
      "outputs": [
        {
          "output_type": "stream",
          "name": "stdout",
          "text": [
            "Date                0\n",
            "Time                0\n",
            "PT08.S1(CO)       366\n",
            "NMHC(GT)         8443\n",
            "C6H6(GT)          366\n",
            "PT08.S2(NMHC)     366\n",
            "NOx(GT)          1639\n",
            "PT08.S3(NOx)      366\n",
            "NO2(GT)          1642\n",
            "PT08.S4(NO2)      366\n",
            "PT08.S5(O3)       366\n",
            "T                 366\n",
            "RH                366\n",
            "AH                366\n",
            "dtype: int64\n"
          ]
        }
      ]
    },
    {
      "cell_type": "markdown",
      "source": [
        "### I tried replace NaN and Outliers by mean and median but it didn't work. So, I decided to drop rows with NaN and outliers for a better prediction "
      ],
      "metadata": {
        "id": "nmlm4r3xBDMn"
      }
    },
    {
      "cell_type": "code",
      "source": [
        "#drop NMHC(GT) with 8443 NaN!!\n",
        "df = df.drop(columns=['NMHC(GT)'], )"
      ],
      "metadata": {
        "id": "vYXJKV_JAXvh"
      },
      "execution_count": 20,
      "outputs": []
    },
    {
      "cell_type": "code",
      "source": [
        "#Drop rows with NaN\n",
        "df = df.dropna()\n",
        "df.reset_index(drop=True, inplace=True)\n",
        "print(df.shape)\n",
        "redution = 100-((7393*100)/9357)\n",
        "print('redution =',round(100-((df.shape[0]*100)/9357)),'% in data')"
      ],
      "metadata": {
        "colab": {
          "base_uri": "https://localhost:8080/"
        },
        "id": "cXZ055YbAcIK",
        "outputId": "37b476a7-f31a-420f-f8ef-b9fc7a6aca41"
      },
      "execution_count": 21,
      "outputs": [
        {
          "output_type": "stream",
          "name": "stdout",
          "text": [
            "(7393, 13)\n",
            "redution = 21 % in data\n"
          ]
        }
      ]
    },
    {
      "cell_type": "markdown",
      "source": [
        "##Drop rows with outliers"
      ],
      "metadata": {
        "id": "jNLGJuKxBotd"
      }
    },
    {
      "cell_type": "markdown",
      "source": [
        "### PT08.S1 (CO) – Variável de predição\n",
        "\n",
        "\n",
        "\n"
      ],
      "metadata": {
        "id": "jgKDmfzvM1jO"
      }
    },
    {
      "cell_type": "code",
      "source": [
        "#show boxplot\n",
        "def column_outliers(column_data):\n",
        "    print('Skew'      ,column_data,' = ',df[column_data].skew())\n",
        "    plt.boxplot(df[column_data]) \n",
        "    plt.show()"
      ],
      "metadata": {
        "id": "IUS9NSnNB0bG"
      },
      "execution_count": 22,
      "outputs": []
    },
    {
      "cell_type": "code",
      "source": [
        "#PT08.S1 (CO) – Variável de predição\n",
        "#The Skew was reduced\n",
        "column_outliers('PT08.S1(CO)')  \n",
        "index = df[(df['PT08.S1(CO)'] >1650)].index\n",
        "#drop rows with outliers > 1650\n",
        "df.drop(index, inplace=True)\n",
        "column_outliers('PT08.S1(CO)')  \n",
        "\n"
      ],
      "metadata": {
        "colab": {
          "base_uri": "https://localhost:8080/",
          "height": 548
        },
        "id": "JwNnnOqDgPDc",
        "outputId": "e67ff89e-335a-48a7-f145-d8f3a0f7e7f8"
      },
      "execution_count": 23,
      "outputs": [
        {
          "output_type": "stream",
          "name": "stdout",
          "text": [
            "Skew PT08.S1(CO)  =  0.7228106426764601\n"
          ]
        },
        {
          "output_type": "display_data",
          "data": {
            "image/png": "[encoded data removed]",
            "text/plain": [
              "<Figure size 432x288 with 1 Axes>"
            ]
          },
          "metadata": {
            "needs_background": "light"
          }
        },
        {
          "output_type": "stream",
          "name": "stdout",
          "text": [
            "Skew PT08.S1(CO)  =  0.48140441076152274\n"
          ]
        },
        {
          "output_type": "display_data",
          "data": {
            "image/png": "[encoded data removed]",
            "text/plain": [
              "<Figure size 432x288 with 1 Axes>"
            ]
          },
          "metadata": {
            "needs_background": "light"
          }
        }
      ]
    },
    {
      "cell_type": "markdown",
      "source": [
        "### Benzene Concentration (mg/m^3)"
      ],
      "metadata": {
        "id": "s4b49m9Eiz-9"
      }
    },
    {
      "cell_type": "code",
      "source": [
        "#Benzene Concentration (mg/m^3)\n",
        "#drop outliers > 25 \n",
        "#The Skew was reduced\n",
        "column_outliers('C6H6(GT)') \n",
        "index = df[(df['C6H6(GT)'] >25)].index\n",
        "df.drop(index, inplace=True)\n",
        "column_outliers('C6H6(GT)')  "
      ],
      "metadata": {
        "colab": {
          "base_uri": "https://localhost:8080/",
          "height": 548
        },
        "id": "eDCxLPkYizBr",
        "outputId": "8e8bc2f9-6d06-496d-d298-a67bd2b404cc"
      },
      "execution_count": 24,
      "outputs": [
        {
          "output_type": "stream",
          "name": "stdout",
          "text": [
            "Skew C6H6(GT)  =  1.0263308064151224\n"
          ]
        },
        {
          "output_type": "display_data",
          "data": {
            "image/png": "[encoded data removed]",
            "text/plain": [
              "<Figure size 432x288 with 1 Axes>"
            ]
          },
          "metadata": {
            "needs_background": "light"
          }
        },
        {
          "output_type": "stream",
          "name": "stdout",
          "text": [
            "Skew C6H6(GT)  =  0.6370627505105422\n"
          ]
        },
        {
          "output_type": "display_data",
          "data": {
            "image/png": "[encoded data removed]",
            "text/plain": [
              "<Figure size 432x288 with 1 Axes>"
            ]
          },
          "metadata": {
            "needs_background": "light"
          }
        }
      ]
    },
    {
      "cell_type": "markdown",
      "source": [
        "### PT08.S2 (NMHC)"
      ],
      "metadata": {
        "id": "JFjfy3N3jCy8"
      }
    },
    {
      "cell_type": "code",
      "source": [
        "#PT08.S2 (NMHC)\n",
        "#no Outliers\n",
        "column_outliers('PT08.S2(NMHC)') "
      ],
      "metadata": {
        "colab": {
          "base_uri": "https://localhost:8080/",
          "height": 282
        },
        "id": "NnVJBebJjDhp",
        "outputId": "e9bf8d0c-16a3-4054-8b76-3b0c8089d689"
      },
      "execution_count": 25,
      "outputs": [
        {
          "output_type": "stream",
          "name": "stdout",
          "text": [
            "Skew PT08.S2(NMHC)  =  0.13968637959010924\n"
          ]
        },
        {
          "output_type": "display_data",
          "data": {
            "image/png": "[encoded data removed]",
            "text/plain": [
              "<Figure size 432x288 with 1 Axes>"
            ]
          },
          "metadata": {
            "needs_background": "light"
          }
        }
      ]
    },
    {
      "cell_type": "markdown",
      "source": [
        "### NOx Concentration (ppb)"
      ],
      "metadata": {
        "id": "HCDIlZFCjiNp"
      }
    },
    {
      "cell_type": "code",
      "source": [
        "#NOx Concentration (ppb)\n",
        "#drop rows with outliers > 500\n",
        "#The Skew was reduced\n",
        "column_outliers('NOx(GT)')\n",
        "index = df[(df['NOx(GT)'] > 500)].index\n",
        "df.drop(index, inplace=True)\n",
        "column_outliers('NOx(GT)')"
      ],
      "metadata": {
        "colab": {
          "base_uri": "https://localhost:8080/",
          "height": 548
        },
        "id": "iWT0J2dGjiz8",
        "outputId": "5ef7328c-3e0d-40bd-c34f-5c71378603f6"
      },
      "execution_count": 26,
      "outputs": [
        {
          "output_type": "stream",
          "name": "stdout",
          "text": [
            "Skew NOx(GT)  =  1.4943399925787526\n"
          ]
        },
        {
          "output_type": "display_data",
          "data": {
            "image/png": "[encoded data removed]",
            "text/plain": [
              "<Figure size 432x288 with 1 Axes>"
            ]
          },
          "metadata": {
            "needs_background": "light"
          }
        },
        {
          "output_type": "stream",
          "name": "stdout",
          "text": [
            "Skew NOx(GT)  =  0.7981572916651953\n"
          ]
        },
        {
          "output_type": "display_data",
          "data": {
            "image/png": "[encoded data removed]",
            "text/plain": [
              "<Figure size 432x288 with 1 Axes>"
            ]
          },
          "metadata": {
            "needs_background": "light"
          }
        }
      ]
    },
    {
      "cell_type": "markdown",
      "source": [
        "### PT08.S3 (NOx)"
      ],
      "metadata": {
        "id": "ngfzbifwjvWb"
      }
    },
    {
      "cell_type": "code",
      "source": [
        "#PT08.S3 (NOx)\n",
        "#drop rows with outliers > 1350\n",
        "#The Skew was reduced\n",
        "column_outliers('PT08.S3(NOx)') \n",
        "index = df[(df['PT08.S3(NOx)'] > 1350)].index\n",
        "df.drop(index, inplace=True)\n",
        "column_outliers('PT08.S3(NOx)')"
      ],
      "metadata": {
        "colab": {
          "base_uri": "https://localhost:8080/",
          "height": 548
        },
        "id": "2kJm7xjjjwO2",
        "outputId": "dab581f6-197a-4e25-c04b-c5954431dc76"
      },
      "execution_count": 27,
      "outputs": [
        {
          "output_type": "stream",
          "name": "stdout",
          "text": [
            "Skew PT08.S3(NOx)  =  1.470289243012836\n"
          ]
        },
        {
          "output_type": "display_data",
          "data": {
            "image/png": "[encoded data removed]",
            "text/plain": [
              "<Figure size 432x288 with 1 Axes>"
            ]
          },
          "metadata": {
            "needs_background": "light"
          }
        },
        {
          "output_type": "stream",
          "name": "stdout",
          "text": [
            "Skew PT08.S3(NOx)  =  0.46636353122183083\n"
          ]
        },
        {
          "output_type": "display_data",
          "data": {
            "image/png": "[encoded data removed]",
            "text/plain": [
              "<Figure size 432x288 with 1 Axes>"
            ]
          },
          "metadata": {
            "needs_background": "light"
          }
        }
      ]
    },
    {
      "cell_type": "markdown",
      "source": [
        "### NO2 Concentration (mg/m^3)"
      ],
      "metadata": {
        "id": "SzR_phFij_Bi"
      }
    },
    {
      "cell_type": "code",
      "source": [
        "#NO2 Concentration (mg/m^3)\n",
        "#drop rows with outliers > 200\n",
        "#The Skew was reduced\n",
        "column_outliers('NO2(GT)') \n",
        "index = df[(df['NO2(GT)'] > 200)].index\n",
        "df.drop(index, inplace=True)\n",
        "column_outliers('NO2(GT)')  \n"
      ],
      "metadata": {
        "colab": {
          "base_uri": "https://localhost:8080/",
          "height": 548
        },
        "id": "qx7A4FrokB5n",
        "outputId": "02b887e0-8034-448e-d164-c82a95e19c51"
      },
      "execution_count": 28,
      "outputs": [
        {
          "output_type": "stream",
          "name": "stdout",
          "text": [
            "Skew NO2(GT)  =  0.40463814044989105\n"
          ]
        },
        {
          "output_type": "display_data",
          "data": {
            "image/png": "[encoded data removed]",
            "text/plain": [
              "<Figure size 432x288 with 1 Axes>"
            ]
          },
          "metadata": {
            "needs_background": "light"
          }
        },
        {
          "output_type": "stream",
          "name": "stdout",
          "text": [
            "Skew NO2(GT)  =  0.1862831496148835\n"
          ]
        },
        {
          "output_type": "display_data",
          "data": {
            "image/png": "[encoded data removed]",
            "text/plain": [
              "<Figure size 432x288 with 1 Axes>"
            ]
          },
          "metadata": {
            "needs_background": "light"
          }
        }
      ]
    },
    {
      "cell_type": "markdown",
      "source": [
        "### PT08.S4 (NO2s)"
      ],
      "metadata": {
        "id": "MwjEB6TXkMZO"
      }
    },
    {
      "cell_type": "code",
      "source": [
        "#PT08.S4 (NO2s)\n",
        "#No outliers\n",
        "column_outliers('PT08.S4(NO2)') "
      ],
      "metadata": {
        "colab": {
          "base_uri": "https://localhost:8080/",
          "height": 282
        },
        "id": "QHVrEYGPkNIo",
        "outputId": "2c3affe8-ded8-4403-affc-b116beac7ba2"
      },
      "execution_count": 29,
      "outputs": [
        {
          "output_type": "stream",
          "name": "stdout",
          "text": [
            "Skew PT08.S4(NO2)  =  -0.08643454280605749\n"
          ]
        },
        {
          "output_type": "display_data",
          "data": {
            "image/png": "[encoded data removed]",
            "text/plain": [
              "<Figure size 432x288 with 1 Axes>"
            ]
          },
          "metadata": {
            "needs_background": "light"
          }
        }
      ]
    },
    {
      "cell_type": "markdown",
      "source": [
        "### PT08.S5 (O3)"
      ],
      "metadata": {
        "id": "hN0kCNSbkXcd"
      }
    },
    {
      "cell_type": "code",
      "source": [
        "# PT08.S5 (O3)\n",
        "#drop rows with outliers > 1800\n",
        "#The Skew was reduced\n",
        "column_outliers('PT08.S5(O3)') \n",
        "index = df[(df['PT08.S5(O3)'] > 1800)].index\n",
        "df.drop(index, inplace=True)\n",
        "column_outliers('PT08.S5(O3)')  "
      ],
      "metadata": {
        "colab": {
          "base_uri": "https://localhost:8080/",
          "height": 548
        },
        "id": "ZVEfy_1SkYj9",
        "outputId": "95b1a131-ad20-4e70-aa14-2e65a8a87c8c"
      },
      "execution_count": 30,
      "outputs": [
        {
          "output_type": "stream",
          "name": "stdout",
          "text": [
            "Skew PT08.S5(O3)  =  0.413459550727803\n"
          ]
        },
        {
          "output_type": "display_data",
          "data": {
            "image/png": "[encoded data removed]",
            "text/plain": [
              "<Figure size 432x288 with 1 Axes>"
            ]
          },
          "metadata": {
            "needs_background": "light"
          }
        },
        {
          "output_type": "stream",
          "name": "stdout",
          "text": [
            "Skew PT08.S5(O3)  =  0.27321620036098454\n"
          ]
        },
        {
          "output_type": "display_data",
          "data": {
            "image/png": "[encoded data removed]",
            "text/plain": [
              "<Figure size 432x288 with 1 Axes>"
            ]
          },
          "metadata": {
            "needs_background": "light"
          }
        }
      ]
    },
    {
      "cell_type": "markdown",
      "source": [
        "### Temperature (C)"
      ],
      "metadata": {
        "id": "SXDoZdU5kiIL"
      }
    },
    {
      "cell_type": "code",
      "source": [
        "# Temperature (C)\n",
        "#No outliers\n",
        "column_outliers('T') "
      ],
      "metadata": {
        "colab": {
          "base_uri": "https://localhost:8080/",
          "height": 282
        },
        "id": "QHWc3o3rki0F",
        "outputId": "7dd5f136-dd24-4a35-e0bb-54a773a7a2c1"
      },
      "execution_count": 31,
      "outputs": [
        {
          "output_type": "stream",
          "name": "stdout",
          "text": [
            "Skew T  =  0.2644606806127672\n"
          ]
        },
        {
          "output_type": "display_data",
          "data": {
            "image/png": "[encoded data removed]",
            "text/plain": [
              "<Figure size 432x288 with 1 Axes>"
            ]
          },
          "metadata": {
            "needs_background": "light"
          }
        }
      ]
    },
    {
      "cell_type": "markdown",
      "source": [
        "### Relative Humidity (%)"
      ],
      "metadata": {
        "id": "q6AgrqKukqxB"
      }
    },
    {
      "cell_type": "code",
      "source": [
        "# Relative Humidity (%)\n",
        "#No outliers\n",
        "column_outliers('RH') "
      ],
      "metadata": {
        "colab": {
          "base_uri": "https://localhost:8080/",
          "height": 282
        },
        "id": "o12Bv57-krno",
        "outputId": "b9b815e3-03da-4067-e75d-f4a40fe24dfa"
      },
      "execution_count": 32,
      "outputs": [
        {
          "output_type": "stream",
          "name": "stdout",
          "text": [
            "Skew RH  =  0.04598019289656245\n"
          ]
        },
        {
          "output_type": "display_data",
          "data": {
            "image/png": "[encoded data removed]",
            "text/plain": [
              "<Figure size 432x288 with 1 Axes>"
            ]
          },
          "metadata": {
            "needs_background": "light"
          }
        }
      ]
    },
    {
      "cell_type": "markdown",
      "source": [
        "### AH Absolute Humidity"
      ],
      "metadata": {
        "id": "Vcha2UEfk2QL"
      }
    },
    {
      "cell_type": "code",
      "source": [
        "# AH Absolute Humidity\n",
        "#No outliers\n",
        "column_outliers('AH') \n",
        "\n",
        "#reset index df\n",
        "df.reset_index(drop=True, inplace=True)"
      ],
      "metadata": {
        "colab": {
          "base_uri": "https://localhost:8080/",
          "height": 282
        },
        "id": "m1lGJpCgk3Gn",
        "outputId": "e19afcb6-6df4-4845-a997-1aa87acbf8f1"
      },
      "execution_count": 33,
      "outputs": [
        {
          "output_type": "stream",
          "name": "stdout",
          "text": [
            "Skew AH  =  0.48204364831274576\n"
          ]
        },
        {
          "output_type": "display_data",
          "data": {
            "image/png": "[encoded data removed]",
            "text/plain": [
              "<Figure size 432x288 with 1 Axes>"
            ]
          },
          "metadata": {
            "needs_background": "light"
          }
        }
      ]
    },
    {
      "cell_type": "markdown",
      "source": [
        "# 2 - Para as quartas-feiras, quais os horários de pico na cidade (de maior concentração de CO) ?"
      ],
      "metadata": {
        "id": "9nMv5eYeRiK0"
      }
    },
    {
      "cell_type": "code",
      "source": [
        "import datetime\n",
        "from statistics import mean"
      ],
      "metadata": {
        "id": "TV-ZA7pIQJQ8"
      },
      "execution_count": 34,
      "outputs": []
    },
    {
      "cell_type": "code",
      "source": [
        "#Function to change date format of Day/Month/year to year-month-day\n",
        "def format_date(dt): \n",
        "    #dt = '11/03/2004'\n",
        "    day, month, year = (int(x) for x in dt.split('/'))    \n",
        "    ans = datetime.date(year, month, day)\n",
        "    week_day = ans.strftime(\"%A\")\n",
        "    #print (ans.strftime(\"%A\"))\n",
        "    return week_day\n",
        "    \n"
      ],
      "metadata": {
        "id": "9XI8NgDwQMBh"
      },
      "execution_count": 35,
      "outputs": []
    },
    {
      "cell_type": "code",
      "source": [
        "#create wednesday dataframe to analysis     \n",
        "df_wednesday = pd.DataFrame([ ], columns = list(df.columns))\n",
        "for i in range(len(df['Date'])):\n",
        "   check_day = format_date(df.loc[i,'Date'])\n",
        "   if check_day == 'Wednesday':\n",
        "     a_row = df.loc[i,:]\n",
        "     row_df = pd.DataFrame([a_row])\n",
        "     df_wednesday = pd.concat([row_df, df_wednesday], ignore_index=True)"
      ],
      "metadata": {
        "id": "QEfWcz7PQkMR"
      },
      "execution_count": 36,
      "outputs": []
    },
    {
      "cell_type": "code",
      "source": [
        "#create 2 lists to save hours of day and the CO mean to every our of wednesdays\n",
        "hours = list(pd.date_range(\"00:00:00\", \"23:00:00\", freq=\"60min\").strftime('%H:%M:%S'))\n",
        "mean_hours = [ ]\n",
        "for i in range(len(hours)):\n",
        "    acumulador = [ ]    \n",
        "    for j in range(len(df_wednesday['Time'])):\n",
        "        colon_hour =  df_wednesday.loc[j,\"Time\"].replace('.',\":\")\n",
        "        if  colon_hour  == hours[i]:        \n",
        "            acumulador.append(df_wednesday.loc[j,\"PT08.S1(CO)\"]) \n",
        "    mean_hours.append(mean(acumulador))      "
      ],
      "metadata": {
        "id": "Wf3DgVFXQmtr"
      },
      "execution_count": 37,
      "outputs": []
    },
    {
      "cell_type": "code",
      "source": [
        "y_pos = range(len(hours))\n",
        "# Rotation of the bars names\n",
        "plt.xticks(y_pos,hours, rotation=90)\n",
        "#Showing the bar graph\n",
        "plt.bar(y_pos, mean_hours)"
      ],
      "metadata": {
        "colab": {
          "base_uri": "https://localhost:8080/",
          "height": 317
        },
        "id": "kvnJnyf6RF0o",
        "outputId": "f0256c45-d543-4851-c369-75001e773a4d"
      },
      "execution_count": 38,
      "outputs": [
        {
          "output_type": "execute_result",
          "data": {
            "text/plain": [
              "<BarContainer object of 24 artists>"
            ]
          },
          "metadata": {},
          "execution_count": 38
        },
        {
          "output_type": "display_data",
          "data": {
            "image/png": "[encoded data removed]",
            "text/plain": [
              "<Figure size 432x288 with 1 Axes>"
            ]
          },
          "metadata": {
            "needs_background": "light"
          }
        }
      ]
    },
    {
      "cell_type": "code",
      "source": [
        "#Hour and max concentration of CO\n",
        "print('The hour of max concentration of CO is',mean_hours.index(max(mean_hours)),':00:00')\n",
        "print('The concentration of CO at',mean_hours.index(max(mean_hours)),':00 is',max(mean_hours))\n",
        "#After 19h, 8h is the hour of higher concentration of CO, and it is logic because is the hour of heavy car traffic"
      ],
      "metadata": {
        "colab": {
          "base_uri": "https://localhost:8080/"
        },
        "id": "g9f5yfLTReYH",
        "outputId": "58a56429-3ad7-4918-d1e5-ef2de28b1c2e"
      },
      "execution_count": 40,
      "outputs": [
        {
          "output_type": "stream",
          "name": "stdout",
          "text": [
            "The hour of max concentration of CO is 19 :00:00\n",
            "The concentration of CO at 19 :00 is 1214.6153846153845\n"
          ]
        }
      ]
    },
    {
      "cell_type": "markdown",
      "source": [
        "# 3- Quais as variáveis mais correlacionadas com a variável de predição?"
      ],
      "metadata": {
        "id": "Y_bYVcuqVDlR"
      }
    },
    {
      "cell_type": "code",
      "source": [
        "from sklearn import linear_model\n",
        "from sklearn.metrics import r2_score\n",
        "import seaborn as sns\n",
        "import scipy.stats"
      ],
      "metadata": {
        "id": "b_9b5Vym_Y2K"
      },
      "execution_count": 44,
      "outputs": []
    },
    {
      "cell_type": "code",
      "source": [
        "#Correlation matrix to heat map\n",
        "cormat = df.corr()\n",
        "round(cormat,2)\n",
        "sns.heatmap(cormat);"
      ],
      "metadata": {
        "colab": {
          "base_uri": "https://localhost:8080/",
          "height": 338
        },
        "id": "6AiIiCETEyXL",
        "outputId": "642180b0-049a-48f0-9aac-16511ef8ff6a"
      },
      "execution_count": 42,
      "outputs": [
        {
          "output_type": "display_data",
          "data": {
            "image/png": "[encoded data removed]",
            "text/plain": [
              "<Figure size 432x288 with 2 Axes>"
            ]
          },
          "metadata": {
            "needs_background": "light"
          }
        }
      ]
    },
    {
      "cell_type": "markdown",
      "source": [
        "### The most most correleted data with CO concentration are C6H6(GT), PT08.S2(NMHC) e PT08.S5(O3) by the visual identification"
      ],
      "metadata": {
        "id": "IgA1GtHrE8a6"
      }
    },
    {
      "cell_type": "code",
      "source": [
        "#'PT08.S1 (CO)' and 'C6H6(GT)'\n",
        "X = np.array(df.iloc[:, 2])\n",
        "y = np.array(df.iloc[: ,3])\n",
        "#Pearson correlation coefficient (linear correlation between data)\n",
        "print('Pearson correlation coefficient',scipy.stats.pearsonr(X, y)[0])\n",
        "plt.scatter(X,y)\n",
        "plt.show()"
      ],
      "metadata": {
        "colab": {
          "base_uri": "https://localhost:8080/",
          "height": 282
        },
        "id": "uJEwbS-DE651",
        "outputId": "655c3c40-989b-4e45-ff39-bf5a7fae17cc"
      },
      "execution_count": 46,
      "outputs": [
        {
          "output_type": "stream",
          "name": "stdout",
          "text": [
            "Pearson correlation coefficient 0.8193273217935554\n"
          ]
        },
        {
          "output_type": "display_data",
          "data": {
            "image/png": "[encoded data removed]",
            "text/plain": [
              "<Figure size 432x288 with 1 Axes>"
            ]
          },
          "metadata": {
            "needs_background": "light"
          }
        }
      ]
    },
    {
      "cell_type": "code",
      "source": [
        "#'PT08.S1 (CO)' and 'PT08.S2(NMHC)'\n",
        "X = np.array(df.iloc[:, 2])\n",
        "y = np.array(df.iloc[: ,4])\n",
        "#Pearson correlation coefficient (linear correlation between data)\n",
        "print('Pearson correlation coefficient',scipy.stats.pearsonr(X, y)[0])\n",
        "plt.scatter(X,y)\n",
        "plt.show()"
      ],
      "metadata": {
        "colab": {
          "base_uri": "https://localhost:8080/",
          "height": 282
        },
        "id": "bMlxHZ0VF16E",
        "outputId": "e68f5476-a7ff-42ec-d7e0-1d422d4a8729"
      },
      "execution_count": 47,
      "outputs": [
        {
          "output_type": "stream",
          "name": "stdout",
          "text": [
            "Pearson correlation coefficient 0.8231327230654946\n"
          ]
        },
        {
          "output_type": "display_data",
          "data": {
            "image/png": "[encoded data removed]",
            "text/plain": [
              "<Figure size 432x288 with 1 Axes>"
            ]
          },
          "metadata": {
            "needs_background": "light"
          }
        }
      ]
    },
    {
      "cell_type": "code",
      "source": [
        "#'PT08.S1 (CO)' and 'PT08.S5(O3)'\n",
        "X = np.array(df.iloc[:, 2])\n",
        "y = np.array(df.iloc[: ,9])\n",
        "#Pearson correlation coefficient (linear correlation between data)\n",
        "print('Pearson correlation coefficient',scipy.stats.pearsonr(X, y)[0])\n",
        "plt.scatter(X,y)\n",
        "plt.show()"
      ],
      "metadata": {
        "colab": {
          "base_uri": "https://localhost:8080/",
          "height": 282
        },
        "id": "gblKXkUZF9ZD",
        "outputId": "a786ee0e-9179-4c45-8852-d95da934c6ac"
      },
      "execution_count": 48,
      "outputs": [
        {
          "output_type": "stream",
          "name": "stdout",
          "text": [
            "Pearson correlation coefficient 0.8391882080494647\n"
          ]
        },
        {
          "output_type": "display_data",
          "data": {
            "image/png": "[encoded data removed]",
            "text/plain": [
              "<Figure size 432x288 with 1 Axes>"
            ]
          },
          "metadata": {
            "needs_background": "light"
          }
        }
      ]
    },
    {
      "cell_type": "markdown",
      "source": [
        "# 4 - Crie um modelo de regressão de PT08.S1 a partir das demais variáveis. Avalie usando as métricas que julgar pertinente para o problema."
      ],
      "metadata": {
        "id": "mVloOLy0GIdJ"
      }
    },
    {
      "cell_type": "markdown",
      "source": [
        "### Multiple Regression"
      ],
      "metadata": {
        "id": "DLv0nUEVW-fV"
      }
    },
    {
      "cell_type": "code",
      "source": [
        "from sklearn import linear_model\n",
        "from sklearn.metrics import r2_score\n",
        "from sklearn.model_selection import train_test_split"
      ],
      "metadata": {
        "id": "dL8F5Xm0W-uo"
      },
      "execution_count": 49,
      "outputs": []
    },
    {
      "cell_type": "code",
      "source": [
        "# X uses the most well related columns with 'PT08.S1(CO)'\n",
        "X = df[['C6H6(GT)', 'PT08.S2(NMHC)', 'PT08.S5(O3)' ]]\n",
        "y = df['PT08.S1(CO)']"
      ],
      "metadata": {
        "id": "7ZSeJSYAXCm_"
      },
      "execution_count": 50,
      "outputs": []
    },
    {
      "cell_type": "code",
      "source": [
        "#Train and Test Dataset\n",
        "train_X, test_X, train_y, test_y = train_test_split(X, y, random_state=4)"
      ],
      "metadata": {
        "id": "1wZecHgAXVnP"
      },
      "execution_count": 51,
      "outputs": []
    },
    {
      "cell_type": "code",
      "source": [
        "#Multiple Regression\n",
        "# Multiple regression is like linear regression, but with\n",
        "# more than one independent value, meaning that we try\n",
        "# to predict a value based on two or more variables.\n",
        "\n",
        "#Fit model\n",
        "regr = linear_model.LinearRegression()\n",
        "regr.fit(train_X,train_y)"
      ],
      "metadata": {
        "colab": {
          "base_uri": "https://localhost:8080/"
        },
        "id": "r4W6-qmQXb1f",
        "outputId": "d78b2866-a220-4240-de12-180494508894"
      },
      "execution_count": 62,
      "outputs": [
        {
          "output_type": "execute_result",
          "data": {
            "text/plain": [
              "LinearRegression()"
            ]
          },
          "metadata": {},
          "execution_count": 62
        }
      ]
    },
    {
      "cell_type": "code",
      "source": [
        "#The R-squared score \n",
        "#r2=0 low correlation e r2=1 high correlation\n",
        "#R2 for train dataset \n",
        "r2_train = round(r2_score(train_y,regr.predict(train_X)),ndigits=2)\n",
        "print(r2_train,'is r2 for train dataset')\n",
        "#R2 for  test dataset  \n",
        "r2_test = round(r2_score(test_y,regr.predict(test_X)), ndigits=2)\n",
        "print(r2_test,'is r2 for test dataset')"
      ],
      "metadata": {
        "colab": {
          "base_uri": "https://localhost:8080/"
        },
        "id": "-stop1cuXgq1",
        "outputId": "b0a1163b-edcb-40bf-fa3d-bb895b9f1905"
      },
      "execution_count": 61,
      "outputs": [
        {
          "output_type": "stream",
          "name": "stdout",
          "text": [
            "0.76 is r2 for train dataset\n",
            "0.77 is r2 for test dataset\n"
          ]
        }
      ]
    }
  ]
}